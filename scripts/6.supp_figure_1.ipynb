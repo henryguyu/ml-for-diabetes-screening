{
 "cells": [
  {
   "cell_type": "code",
   "execution_count": null,
   "metadata": {},
   "outputs": [],
   "source": [
    "from matplotlib import pyplot as plt\n",
    "import numpy as np\n",
    "import shap\n",
    "\n",
    "from lxh_prediction.explain_model import explain_with_shape_lgbm\n",
    "\n",
    "\n",
    "feat_collection = \"top20_non_lab\"\n",
    "explainer, X, feature_names = explain_with_shape_lgbm(feat_collection)\n",
    "\n",
    "shap_values = explainer.shap_values(X)[1]\n",
    "expected_value = explainer.expected_value[1]\n"
   ]
  },
  {
   "cell_type": "code",
   "execution_count": null,
   "metadata": {},
   "outputs": [],
   "source": [
    "import pandas as pd\n",
    "\n",
    "\n",
    "def sigmoid(x):\n",
    "    return 1 / (1 + np.exp(-x))\n",
    "\n",
    "\n",
    "def desigmoid(p):\n",
    "    return np.log(p / (1 - p))\n",
    "\n",
    "\n",
    "shap_v = pd.DataFrame(shap_values, columns=X.columns)\n",
    "phi0 = expected_value\n",
    "\n",
    "RR = sigmoid(shap_v + phi0) / sigmoid(phi0)\n",
    "\n",
    "\n",
    "def plot_relative_risk(name, xlim=None):\n",
    "    fig = plt.figure(figsize=(5, 5), dpi=100)\n",
    "    if xlim is not None:\n",
    "        plt.xlim(xlim)\n",
    "    shap.dependence_plot(\n",
    "        name,\n",
    "        RR.values,\n",
    "        X,\n",
    "        display_features=X,\n",
    "        interaction_index=None,\n",
    "        feature_names=feature_names,\n",
    "        ax=fig.gca(),\n",
    "        show=False,\n",
    "    )\n",
    "    fig.gca().set_ylabel(\"Relative Risk for diabetes\")\n"
   ]
  },
  {
   "cell_type": "code",
   "execution_count": null,
   "metadata": {},
   "outputs": [],
   "source": [
    "plot_relative_risk(\"RPR\", xlim=(40, 140))\n"
   ]
  },
  {
   "cell_type": "code",
   "execution_count": null,
   "metadata": {},
   "outputs": [],
   "source": [
    "plot_relative_risk(\"Age\")\n"
   ]
  },
  {
   "cell_type": "code",
   "execution_count": null,
   "metadata": {},
   "outputs": [],
   "source": [
    "plot_relative_risk(\"WHR\")\n"
   ]
  },
  {
   "cell_type": "code",
   "execution_count": null,
   "metadata": {},
   "outputs": [],
   "source": [
    "plot_relative_risk(\"SBP\", xlim=(80, 220))\n"
   ]
  },
  {
   "cell_type": "code",
   "execution_count": null,
   "metadata": {},
   "outputs": [],
   "source": [
    "plot_relative_risk(\"Work\")\n"
   ]
  },
  {
   "cell_type": "code",
   "execution_count": null,
   "metadata": {},
   "outputs": [],
   "source": [
    "plot_relative_risk(\"BMI\")\n"
   ]
  },
  {
   "cell_type": "code",
   "execution_count": null,
   "metadata": {},
   "outputs": [],
   "source": [
    "plot_relative_risk(\"WC\")\n"
   ]
  },
  {
   "cell_type": "code",
   "execution_count": null,
   "metadata": {},
   "outputs": [],
   "source": [
    "plot_relative_risk(\"Education\")\n"
   ]
  },
  {
   "cell_type": "code",
   "execution_count": null,
   "metadata": {},
   "outputs": [],
   "source": [
    "plot_relative_risk(\"Years of cellphone use\")\n"
   ]
  },
  {
   "cell_type": "code",
   "execution_count": null,
   "metadata": {},
   "outputs": [],
   "source": [
    "plot_relative_risk(\"WHtR\", xlim=(0.3, 0.8))\n"
   ]
  },
  {
   "cell_type": "code",
   "execution_count": null,
   "metadata": {},
   "outputs": [],
   "source": []
  }
 ],
 "metadata": {
  "interpreter": {
   "hash": "efab09b25134496e836085ae804bff354560998c63ae3e0f2ac321cd3cda1e71"
  },
  "kernelspec": {
   "display_name": "Python 3.8.10 64-bit ('py38': conda)",
   "language": "python",
   "name": "python3"
  },
  "language_info": {
   "codemirror_mode": {
    "name": "ipython",
    "version": 3
   },
   "file_extension": ".py",
   "mimetype": "text/x-python",
   "name": "python",
   "nbconvert_exporter": "python",
   "pygments_lexer": "ipython3",
   "version": "3.8.10"
  },
  "orig_nbformat": 4
 },
 "nbformat": 4,
 "nbformat_minor": 2
}
