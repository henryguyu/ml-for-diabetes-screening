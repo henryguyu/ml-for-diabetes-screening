{
 "cells": [
  {
   "cell_type": "code",
   "execution_count": null,
   "metadata": {},
   "outputs": [],
   "source": [
    "from lxh_prediction.plot import plot_curve, plt\n",
    "from lxh_prediction.curves_auc import auROCExp, auPRExp\n"
   ]
  },
  {
   "cell_type": "code",
   "execution_count": null,
   "metadata": {},
   "outputs": [],
   "source": [
    "exp = auROCExp(plt.figure(figsize=(6, 6), dpi=300), retrain=False)\n",
    "exp.run(\"ML Model\", \"LightGBMModel\", \"top20_non_lab\")\n",
    "exp.run(\"ML Model w/ Nested CV\", \"AutoLightGBMModel2\", \"top20_non_lab\")\n",
    "\n",
    "# Random\n",
    "plot_curve(\n",
    "    (0, 1),\n",
    "    (0, 1),\n",
    "    ylim=(0, 1),\n",
    "    xlabel=\"1-Specificity\",\n",
    "    ylabel=\"Sensitivity\",\n",
    "    color=\"navy\",\n",
    "    lw=2,\n",
    "    linestyle=\"--\",\n",
    "    name=\"Random\",\n",
    ")\n",
    "exp.plot()\n",
    "\n",
    "exp.save(\"figure_supp5a\")\n"
   ]
  },
  {
   "cell_type": "code",
   "execution_count": null,
   "metadata": {},
   "outputs": [],
   "source": [
    "exp = auPRExp(plt.figure(figsize=(6, 6), dpi=300), retrain=False)\n",
    "exp.run(\"ML Model\", \"LightGBMModel\", \"top20_non_lab\")\n",
    "exp.run(\"ML Model w/ Nested CV\", \"AutoLightGBMModel2\", \"top20_non_lab\")\n",
    "exp.plot()\n",
    "\n",
    "plt.legend(loc=\"lower left\")\n",
    "exp.save(\"figure_supp5b\")\n"
   ]
  },
  {
   "cell_type": "code",
   "execution_count": null,
   "metadata": {},
   "outputs": [],
   "source": [
    "exp = auROCExp(plt.figure(figsize=(6, 6), dpi=300), retrain=False)\n",
    "exp.run(\"ML+FPG Model\", \"LightGBMModel\", \"FPG\")\n",
    "exp.run(\"ML+FPG w/ Nested CV\", \"AutoLightGBMModel2\", \"FPG\")\n",
    "\n",
    "# Random\n",
    "plot_curve(\n",
    "    (0, 1),\n",
    "    (0, 1),\n",
    "    ylim=(0, 1),\n",
    "    xlabel=\"1-Specificity\",\n",
    "    ylabel=\"Sensitivity\",\n",
    "    color=\"navy\",\n",
    "    lw=2,\n",
    "    linestyle=\"--\",\n",
    "    name=\"Random\",\n",
    ")\n",
    "exp.plot()\n",
    "\n",
    "exp.save(\"figure_supp5c\")\n"
   ]
  },
  {
   "cell_type": "code",
   "execution_count": null,
   "metadata": {},
   "outputs": [],
   "source": [
    "exp = auPRExp(plt.figure(figsize=(6, 6), dpi=300), retrain=False)\n",
    "exp.run(\"ML+FPG Model\", \"LightGBMModel\", \"FPG\")\n",
    "exp.run(\"ML+FPG w/ Nested CV\", \"AutoLightGBMModel2\", \"FPG\")\n",
    "exp.plot()\n",
    "\n",
    "plt.legend(loc=\"lower left\")\n",
    "exp.save(\"figure_supp5d\")\n"
   ]
  },
  {
   "cell_type": "code",
   "execution_count": null,
   "metadata": {},
   "outputs": [],
   "source": []
  }
 ],
 "metadata": {
  "interpreter": {
   "hash": "efab09b25134496e836085ae804bff354560998c63ae3e0f2ac321cd3cda1e71"
  },
  "kernelspec": {
   "display_name": "Python 3.8.10 64-bit ('py38': conda)",
   "language": "python",
   "name": "python3"
  },
  "language_info": {
   "codemirror_mode": {
    "name": "ipython",
    "version": 3
   },
   "file_extension": ".py",
   "mimetype": "text/x-python",
   "name": "python",
   "nbconvert_exporter": "python",
   "pygments_lexer": "ipython3",
   "version": "3.8.10"
  },
  "orig_nbformat": 4
 },
 "nbformat": 4,
 "nbformat_minor": 2
}
