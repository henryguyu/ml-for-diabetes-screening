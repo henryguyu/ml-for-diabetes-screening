{
 "cells": [
  {
   "cell_type": "code",
   "execution_count": null,
   "metadata": {},
   "outputs": [],
   "source": [
    "from lxh_prediction.plot import plot_curve, plt\n",
    "from lxh_prediction.curves_auc import auROCExp, auPRExp\n",
    "from lxh_prediction.curves_cost import FutureCostExp, SensitivityCostExp\n"
   ]
  },
  {
   "cell_type": "code",
   "execution_count": null,
   "metadata": {},
   "outputs": [],
   "source": [
    "# Figure 4b AUC\n",
    "\n",
    "exp = auROCExp(plt.figure(figsize=(6, 6), dpi=300), retrain=False)\n",
    "exp.run(\"ML Model\", \"LightGBMModel\", \"top20_non_lab\")\n",
    "exp.run(\"ADART\", \"ADAModel\", \"ADA\", cutoff=True)\n",
    "exp.run(\"NCDRS\", \"CHModel\", \"CH\", cutoff=True)\n",
    "\n",
    "# Random\n",
    "plot_curve(\n",
    "    (0, 1),\n",
    "    (0, 1),\n",
    "    ylim=(0, 1),\n",
    "    xlabel=\"1-Specificity\",\n",
    "    ylabel=\"Sensitivity\",\n",
    "    color=\"navy\",\n",
    "    lw=2,\n",
    "    linestyle=\"--\",\n",
    "    name=\"Random\",\n",
    ")\n",
    "exp.plot()\n",
    "\n",
    "exp.save(\"figure4b_auc\")\n"
   ]
  },
  {
   "cell_type": "code",
   "execution_count": null,
   "metadata": {},
   "outputs": [],
   "source": [
    "# Figure 4c auPR\n",
    "\n",
    "exp = auPRExp(plt.figure(figsize=(6, 6), dpi=300), retrain=False)\n",
    "exp.run(\"ML Model\", \"LightGBMModel\", \"top20_non_lab\")\n",
    "exp.run(\"ADART\", \"ADAModel\", \"ADA\", cutoff=True)\n",
    "exp.run(\"NCDRS\", \"CHModel\", \"CH\", cutoff=True)\n",
    "exp.plot()\n",
    "\n",
    "plt.legend(loc=\"upper right\")\n",
    "exp.save(\"figure4b_auPR\")\n"
   ]
  },
  {
   "cell_type": "markdown",
   "metadata": {},
   "source": [
    "### Confirmatory test and costs"
   ]
  },
  {
   "cell_type": "code",
   "execution_count": null,
   "metadata": {},
   "outputs": [],
   "source": [
    "from lxh_prediction.plot import plot_curve, plt\n",
    "from lxh_prediction.curves_cost import NeedsMissRateExp, CostMissRateExp\n"
   ]
  },
  {
   "cell_type": "code",
   "execution_count": null,
   "metadata": {},
   "outputs": [],
   "source": [
    "# Figure 4h Confirmatory test\n",
    "\n",
    "exp = NeedsMissRateExp(retrain=False)\n",
    "\n",
    "exp.xlim = (0, 1)\n",
    "exp.run(\"ML Model\", \"LightGBMModel\", \"top20_non_lab\")\n",
    "exp.run(\"NCDRS\", \"CHModel\", \"CH\", cutoff=True)\n",
    "\n",
    "exp.plot()\n",
    "plt.legend(loc=\"upper right\")\n",
    "exp.save(\"figure4h\")"
   ]
  },
  {
   "cell_type": "code",
   "execution_count": null,
   "metadata": {},
   "outputs": [],
   "source": [
    "# Figure 4i\n",
    "\n",
    "exp = CostMissRateExp(retrain=False)\n",
    "exp.ylim = (0, 60)\n",
    "exp.xlim = (0, 1)\n",
    "\n",
    "exp.run(\"ML Model\", \"LightGBMModel\", \"top20_non_lab\")\n",
    "exp.run(\"NCDRS\", \"CHModel\", \"CH\", cutoff=True)\n",
    "exp.plot()\n",
    "plt.legend(loc=\"lower right\")\n",
    "exp.save(\"figure4i\")"
   ]
  },
  {
   "cell_type": "code",
   "execution_count": null,
   "metadata": {},
   "outputs": [],
   "source": [
    "# Figure 4j\n",
    "\n",
    "exp = SensitivityCostExp(retrain=False)\n",
    "exp.xlim = (0, 60)\n",
    "exp.ylim = (0, 1)\n",
    "\n",
    "exp.run(\"ML Model\", \"LightGBMModel\", \"top20_non_lab\")\n",
    "exp.run(\"NCDRS\", \"CHModel\", \"CH\", cutoff=True)\n",
    "exp.plot()\n",
    "plt.legend(loc=\"lower right\")\n",
    "exp.save(\"figure4j\")"
   ]
  },
  {
   "cell_type": "code",
   "execution_count": null,
   "metadata": {},
   "outputs": [],
   "source": [
    "# Figure 4k\n",
    "\n",
    "exp = FutureCostExp(compare_to_all=True, retrain=False)\n",
    "exp.xlim = (0, 60)\n",
    "exp.ylim = (0, 700)\n",
    "\n",
    "\n",
    "# exp.MinCost = 45\n",
    "exp.run(\"ML Model\", \"LightGBMModel\", \"top20_non_lab\")\n",
    "exp.run(\"NCDRS\", \"CHModel\", \"CH\", cutoff=True)\n",
    "# exp.run(\"ML+FPG Model\", \"LightGBMModel\", \"FPG\")\n",
    "# exp.run(\"NCDRS+FPG Model\", \"CHModel\", \"CH_FPG\")\n",
    "# exp.run(\"ML+2hPG Model\", \"LightGBMModel\", \"2hPG\")\n",
    "# exp.run(\"NCDRS+2hPG Model\", \"CHModel\", \"CH_2hPG\")\n",
    "\n",
    "exp.plot()\n",
    "plt.legend(loc=\"upper right\")\n",
    "exp.save(\"figure4k\")\n"
   ]
  },
  {
   "cell_type": "code",
   "execution_count": null,
   "metadata": {},
   "outputs": [],
   "source": []
  }
 ],
 "metadata": {
  "interpreter": {
   "hash": "efab09b25134496e836085ae804bff354560998c63ae3e0f2ac321cd3cda1e71"
  },
  "kernelspec": {
   "display_name": "Python 3.8.10 64-bit ('py38': conda)",
   "language": "python",
   "name": "python3"
  },
  "language_info": {
   "codemirror_mode": {
    "name": "ipython",
    "version": 3
   },
   "file_extension": ".py",
   "mimetype": "text/x-python",
   "name": "python",
   "nbconvert_exporter": "python",
   "pygments_lexer": "ipython3",
   "version": "3.8.10"
  },
  "orig_nbformat": 4
 },
 "nbformat": 4,
 "nbformat_minor": 2
}
