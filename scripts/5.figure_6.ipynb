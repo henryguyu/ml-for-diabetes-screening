{
 "cells": [
  {
   "cell_type": "code",
   "execution_count": null,
   "metadata": {},
   "outputs": [],
   "source": [
    "from lxh_prediction.plot import plot_curve, plt\n",
    "from lxh_prediction.curves_auc import auROCExp, auPRExp\n",
    "from lxh_prediction.curves_cost import (\n",
    "    FutureCostExp,\n",
    "    SensitivityCostExp,\n",
    "    NeedsMissRateExp,\n",
    "    CostMissRateExp,\n",
    ")\n"
   ]
  },
  {
   "cell_type": "code",
   "execution_count": null,
   "metadata": {},
   "outputs": [],
   "source": [
    "# Figure 6a AUC\n",
    "\n",
    "exp = auROCExp(plt.figure(figsize=(6, 6), dpi=300), retrain=False)\n",
    "exp.run(\"ML+FPG Model\", \"LightGBMModel\", \"FPG\")\n",
    "exp.run(\"NCDRS+FPG Model\", \"CHModel\", \"CH_FPG\")\n",
    "\n",
    "# Random\n",
    "plot_curve(\n",
    "    (0, 1),\n",
    "    (0, 1),\n",
    "    ylim=(0, 1),\n",
    "    xlabel=\"1-Specificity\",\n",
    "    ylabel=\"Sensitivity\",\n",
    "    color=\"navy\",\n",
    "    lw=2,\n",
    "    linestyle=\"--\",\n",
    "    name=\"Random\",\n",
    ")\n",
    "exp.plot()\n",
    "\n",
    "exp.save(\"figure6a\")\n"
   ]
  },
  {
   "cell_type": "code",
   "execution_count": null,
   "metadata": {},
   "outputs": [],
   "source": [
    "# Figure 6b auPR\n",
    "\n",
    "exp = auPRExp(plt.figure(figsize=(6, 6), dpi=300), retrain=False)\n",
    "exp.run(\"ML+FPG Model\", \"LightGBMModel\", \"FPG\")\n",
    "exp.run(\"NCDRS+FPG Model\", \"CHModel\", \"CH_FPG\")\n",
    "exp.plot()\n",
    "\n",
    "plt.legend(loc=\"lower left\")\n",
    "exp.save(\"figure6b\")\n"
   ]
  },
  {
   "cell_type": "code",
   "execution_count": null,
   "metadata": {},
   "outputs": [],
   "source": [
    "# Figure 6c\n",
    "exp = NeedsMissRateExp(retrain=False)\n",
    "\n",
    "exp.xlim = (0, 1)\n",
    "exp.run(\"ML+FPG Model\", \"LightGBMModel\", \"FPG\")\n",
    "exp.run(\"NCDRS+FPG Model\", \"CHModel\", \"CH_FPG\")\n",
    "\n",
    "exp.plot()\n",
    "plt.legend(loc=\"upper right\")\n",
    "exp.save(\"figure6c\")\n",
    "\n"
   ]
  },
  {
   "cell_type": "code",
   "execution_count": null,
   "metadata": {},
   "outputs": [],
   "source": [
    "# Figure 6d\n",
    "\n",
    "exp = CostMissRateExp(retrain=False)\n",
    "exp.ylim = (15, 65)\n",
    "exp.xlim = (0.5, 1)\n",
    "\n",
    "exp.run(\"ML+FPG Model\", \"LightGBMModel\", \"FPG\")\n",
    "exp.run(\"NCDRS+FPG Model\", \"CHModel\", \"CH_FPG\")\n",
    "\n",
    "exp.plot()\n",
    "plt.legend(loc=\"upper right\")\n",
    "exp.save(\"figure6d\")"
   ]
  },
  {
   "cell_type": "code",
   "execution_count": null,
   "metadata": {},
   "outputs": [],
   "source": [
    "# Figure 6e\n",
    "\n",
    "exp = SensitivityCostExp(retrain=False)\n",
    "exp.xlim = (18, 65)\n",
    "exp.ylim = (0.5, 1)\n",
    "\n",
    "exp.run(\"ML+FPG Model\", \"LightGBMModel\", \"FPG\")\n",
    "exp.run(\"NCDRS+FPG Model\", \"CHModel\", \"CH_FPG\")\n",
    "exp.plot()\n",
    "plt.legend(loc=\"lower right\")\n",
    "exp.save(\"figure6e\")"
   ]
  },
  {
   "cell_type": "code",
   "execution_count": null,
   "metadata": {},
   "outputs": [],
   "source": [
    "# Figure 6f\n",
    "\n",
    "exp = FutureCostExp(compare_to_all=True, retrain=False)\n",
    "exp.xlim = (18, 70)\n",
    "exp.ylim = (0, 300)\n",
    "\n",
    "exp.run(\"ML+FPG Model\", \"LightGBMModel\", \"FPG\")\n",
    "exp.run(\"NCDRS+FPG Model\", \"CHModel\", \"CH_FPG\")\n",
    "\n",
    "exp.plot()\n",
    "plt.legend(loc=\"upper right\")\n",
    "exp.save(\"figure6f\")\n"
   ]
  },
  {
   "cell_type": "code",
   "execution_count": null,
   "metadata": {},
   "outputs": [],
   "source": []
  }
 ],
 "metadata": {
  "interpreter": {
   "hash": "efab09b25134496e836085ae804bff354560998c63ae3e0f2ac321cd3cda1e71"
  },
  "kernelspec": {
   "display_name": "Python 3.8.10 64-bit ('py38': conda)",
   "language": "python",
   "name": "python3"
  },
  "language_info": {
   "codemirror_mode": {
    "name": "ipython",
    "version": 3
   },
   "file_extension": ".py",
   "mimetype": "text/x-python",
   "name": "python",
   "nbconvert_exporter": "python",
   "pygments_lexer": "ipython3",
   "version": "3.8.10"
  },
  "orig_nbformat": 4
 },
 "nbformat": 4,
 "nbformat_minor": 2
}
