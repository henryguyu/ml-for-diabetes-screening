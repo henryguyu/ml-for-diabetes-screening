{
 "cells": [
  {
   "cell_type": "code",
   "execution_count": null,
   "metadata": {},
   "outputs": [],
   "source": [
    "from lxh_prediction.plot import plot_curve, plt\n",
    "from lxh_prediction.curves_auc import auROCNonLab, auPRNonLab\n"
   ]
  },
  {
   "cell_type": "code",
   "execution_count": null,
   "metadata": {},
   "outputs": [],
   "source": [
    "# Figure 3a AUC\n",
    "\n",
    "exp = auROCNonLab(retrain=False)\n",
    "exp.run(\"LGBM Model\", \"LightGBMModel\", \"full_non_lab\")\n",
    "exp.run(\"ANN Model\", \"ANNModel\", \"full_non_lab\")\n",
    "exp.run(\"RF Model\", \"RandomForestModel\", \"full_non_lab\")\n",
    "exp.run(\"SVM Model\", \"SVMModel\", \"full_non_lab\")\n",
    "exp.run(\"LR Model\", \"LogisticRegressionModel\", \"full_non_lab\")\n",
    "\n",
    "exp.plot()\n",
    "plot_curve(\n",
    "    (0, 1),\n",
    "    (0, 1),\n",
    "    ylim=(0, 1),\n",
    "    xlabel=\"1-Specificity\",\n",
    "    ylabel=\"Sensitivity\",\n",
    "    color=\"navy\",\n",
    "    lw=2,\n",
    "    linestyle=\"--\",\n",
    "    name=\"Random\",\n",
    ")\n",
    "\n",
    "exp.save(\"figure3a_auc\")\n"
   ]
  },
  {
   "cell_type": "code",
   "execution_count": null,
   "metadata": {},
   "outputs": [],
   "source": [
    "# Figure 3a auPR\n",
    "\n",
    "exp = auPRNonLab(retrain=False)\n",
    "exp.run(\"LGBM Model\", \"LightGBMModel\", \"full_non_lab\")\n",
    "exp.run(\"ANN Model\", \"ANNModel\", \"full_non_lab\")\n",
    "exp.run(\"RF Model\", \"RandomForestModel\", \"full_non_lab\")\n",
    "exp.run(\"SVM Model\", \"SVMModel\", \"full_non_lab\")\n",
    "exp.run(\"LR Model\", \"LogisticRegressionModel\", \"full_non_lab\")\n",
    "\n",
    "exp.plot()\n",
    "plt.legend(loc=\"upper right\")\n",
    "\n",
    "exp.save(\"figure3a_auPR\")\n"
   ]
  },
  {
   "cell_type": "code",
   "execution_count": null,
   "metadata": {},
   "outputs": [],
   "source": [
    "# Figure 3b AUC\n",
    "\n",
    "exp = auROCNonLab(retrain=False)\n",
    "exp.run(\"Full Model\", \"LightGBMModel\", \"full_non_lab\")\n",
    "exp.run(\"Top-25 Model\", \"LightGBMModel\", \"top25_non_lab\")\n",
    "exp.run(\"Top-20 Model\", \"LightGBMModel\", \"top20_non_lab\")\n",
    "exp.run(\"Top-15 Model\", \"LightGBMModel\", \"top15_non_lab\")\n",
    "exp.run(\"Top-10 Model\", \"LightGBMModel\", \"top10_non_lab\")\n",
    "exp.run(\"Top-5 Model\", \"LightGBMModel\", \"top5_non_lab\")\n",
    "exp.plot()\n",
    "plot_curve(\n",
    "    (0, 1),\n",
    "    (0, 1),\n",
    "    ylim=(0, 1),\n",
    "    xlabel=\"1-Specificity\",\n",
    "    ylabel=\"Sensitivity\",\n",
    "    color=\"navy\",\n",
    "    lw=2,\n",
    "    linestyle=\"--\",\n",
    "    name=\"Random\",\n",
    ")\n",
    "\n",
    "exp.save(\"figure3b_auc\")\n"
   ]
  },
  {
   "cell_type": "code",
   "execution_count": null,
   "metadata": {},
   "outputs": [],
   "source": [
    "# Figure 3b auPR\n",
    "\n",
    "exp = auPRNonLab(retrain=False)\n",
    "exp.run(\"Full Model\", \"LightGBMModel\", \"full_non_lab\")\n",
    "exp.run(\"Top-25 Model\", \"LightGBMModel\", \"top25_non_lab\")\n",
    "exp.run(\"Top-20 Model\", \"LightGBMModel\", \"top20_non_lab\")\n",
    "exp.run(\"Top-15 Model\", \"LightGBMModel\", \"top15_non_lab\")\n",
    "exp.run(\"Top-10 Model\", \"LightGBMModel\", \"top10_non_lab\")\n",
    "exp.run(\"Top-5 Model\", \"LightGBMModel\", \"top5_non_lab\")\n",
    "\n",
    "exp.plot()\n",
    "plt.legend(loc=\"upper right\")\n",
    "\n",
    "exp.save(\"figure3b_auPR\")\n"
   ]
  },
  {
   "cell_type": "markdown",
   "metadata": {},
   "source": [
    "### Figure 3c Feature ranking using Shap"
   ]
  },
  {
   "cell_type": "code",
   "execution_count": null,
   "metadata": {},
   "outputs": [],
   "source": [
    "from matplotlib import pyplot as plt\n",
    "import numpy as np\n",
    "import shap\n",
    "\n",
    "from lxh_prediction.explain_model import explain_with_shape_lgbm\n",
    "\n",
    "\n",
    "feat_collection = \"full_non_lab\"\n",
    "explainer, X, feature_names = explain_with_shape_lgbm(feat_collection)\n",
    "\n",
    "shap_values = explainer.shap_values(X)[1]\n",
    "expected_value = explainer.expected_value[1]\n",
    "\n",
    "fig = plt.figure(figsize=(4, 4), dpi=300)\n",
    "shap.summary_plot(\n",
    "    shap_values, X, max_display=20, plot_type=\"bar\", feature_names=feature_names,\n",
    ")\n"
   ]
  },
  {
   "cell_type": "markdown",
   "metadata": {},
   "source": [
    "### Figure 3 d-f"
   ]
  },
  {
   "cell_type": "code",
   "execution_count": null,
   "metadata": {},
   "outputs": [],
   "source": [
    "import pandas as pd\n",
    "\n",
    "# Reload data for Top20 features only\n",
    "feat_collection = \"top20_non_lab\"\n",
    "explainer, X, feature_names = explain_with_shape_lgbm(feat_collection)\n",
    "\n",
    "shap_values = explainer.shap_values(X)[1]\n",
    "expected_value = explainer.expected_value[1]\n",
    "\n",
    "\n",
    "def sigmoid(x):\n",
    "    return 1 / (1 + np.exp(-x))\n",
    "\n",
    "\n",
    "shap_v = pd.DataFrame(shap_values, columns=X.columns)\n",
    "phi0 = expected_value\n",
    "\n",
    "RR = sigmoid(shap_v + phi0) / sigmoid(phi0)\n"
   ]
  },
  {
   "cell_type": "code",
   "execution_count": null,
   "metadata": {},
   "outputs": [],
   "source": [
    "name = \"RPR\"\n",
    "fig = plt.figure(figsize=(5, 5), dpi=100)\n",
    "plt.xlim((40, 140))\n",
    "shap.dependence_plot(\n",
    "    name,\n",
    "    RR.values,\n",
    "    X,\n",
    "    display_features=X,\n",
    "    interaction_index=None,\n",
    "    feature_names=feature_names,\n",
    "    ax=fig.gca(),\n",
    "    show=False,\n",
    ")\n",
    "fig.gca().set_ylabel(\"Relative Risk for diabetes\")\n"
   ]
  },
  {
   "cell_type": "code",
   "execution_count": null,
   "metadata": {},
   "outputs": [],
   "source": [
    "name = \"Age\"\n",
    "fig = plt.figure(figsize=(5, 5), dpi=100)\n",
    "shap.dependence_plot(\n",
    "    name,\n",
    "    RR.values,\n",
    "    X,\n",
    "    display_features=X,\n",
    "    interaction_index=None,\n",
    "    feature_names=feature_names,\n",
    "    ax=fig.gca(),\n",
    "    show=False,\n",
    ")\n",
    "fig.gca().set_ylabel(\"Relative Risk for diabetes\")\n"
   ]
  },
  {
   "cell_type": "code",
   "execution_count": null,
   "metadata": {},
   "outputs": [],
   "source": [
    "name = \"WHR\"\n",
    "fig = plt.figure(figsize=(5, 5), dpi=100)\n",
    "shap.dependence_plot(\n",
    "    name,\n",
    "    RR.values,\n",
    "    X,\n",
    "    display_features=X,\n",
    "    interaction_index=None,\n",
    "    feature_names=feature_names,\n",
    "    ax=fig.gca(),\n",
    "    show=False,\n",
    ")\n",
    "fig.gca().set_ylabel(\"Relative Risk for diabetes\")\n"
   ]
  },
  {
   "cell_type": "code",
   "execution_count": null,
   "metadata": {},
   "outputs": [],
   "source": []
  }
 ],
 "metadata": {
  "interpreter": {
   "hash": "efab09b25134496e836085ae804bff354560998c63ae3e0f2ac321cd3cda1e71"
  },
  "kernelspec": {
   "display_name": "Python 3.8.10 64-bit ('py38': conda)",
   "language": "python",
   "name": "python3"
  },
  "language_info": {
   "codemirror_mode": {
    "name": "ipython",
    "version": 3
   },
   "file_extension": ".py",
   "mimetype": "text/x-python",
   "name": "python",
   "nbconvert_exporter": "python",
   "pygments_lexer": "ipython3",
   "version": "3.8.10"
  },
  "orig_nbformat": 4
 },
 "nbformat": 4,
 "nbformat_minor": 2
}
